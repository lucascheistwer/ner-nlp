{
  "nbformat": 4,
  "nbformat_minor": 0,
  "metadata": {
    "colab": {
      "name": "Convertir pdf a json.ipynb",
      "provenance": [],
      "collapsed_sections": [],
      "include_colab_link": true
    },
    "kernelspec": {
      "name": "python3",
      "display_name": "Python 3"
    }
  },
  "cells": [
    {
      "cell_type": "markdown",
      "metadata": {
        "id": "view-in-github",
        "colab_type": "text"
      },
      "source": [
        "<a href=\"https://colab.research.google.com/github/mari967/ner-nlp/blob/master/Convertir_pdf_a_json.ipynb\" target=\"_parent\"><img src=\"https://colab.research.google.com/assets/colab-badge.svg\" alt=\"Open In Colab\"/></a>"
      ]
    },
    {
      "cell_type": "code",
      "metadata": {
        "id": "Mhn8MdkJq_qB",
        "colab_type": "code",
        "outputId": "2b901060-f80a-4c74-cc9b-1f7e3b398259",
        "colab": {
          "base_uri": "https://localhost:8080/",
          "height": 122
        }
      },
      "source": [
        "from google.colab import drive\n",
        "drive.mount('/content/drive')"
      ],
      "execution_count": 0,
      "outputs": [
        {
          "output_type": "stream",
          "text": [
            "Go to this URL in a browser: https://accounts.google.com/o/oauth2/auth?client_id=947318989803-6bn6qk8qdgf4n4g3pfee6491hc0brc4i.apps.googleusercontent.com&redirect_uri=urn%3aietf%3awg%3aoauth%3a2.0%3aoob&response_type=code&scope=email%20https%3a%2f%2fwww.googleapis.com%2fauth%2fdocs.test%20https%3a%2f%2fwww.googleapis.com%2fauth%2fdrive%20https%3a%2f%2fwww.googleapis.com%2fauth%2fdrive.photos.readonly%20https%3a%2f%2fwww.googleapis.com%2fauth%2fpeopleapi.readonly\n",
            "\n",
            "Enter your authorization code:\n",
            "··········\n",
            "Mounted at /content/drive\n"
          ],
          "name": "stdout"
        }
      ]
    },
    {
      "cell_type": "code",
      "metadata": {
        "colab_type": "code",
        "id": "4rRrI5FxSw9k",
        "colab": {}
      },
      "source": [
        "from pdfminer.pdfinterp import PDFResourceManager, PDFPageInterpreter\n",
        "from pdfminer.converter import TextConverter\n",
        "from pdfminer.layout import LAParams\n",
        "from pdfminer.pdfpage import PDFPage\n",
        "from io import StringIO\n",
        "\n",
        "def convert_pdf_to_txt(path):\n",
        "    rsrcmgr = PDFResourceManager()\n",
        "    retstr = StringIO()\n",
        "    laparams = LAParams()\n",
        "    device = TextConverter(rsrcmgr, retstr, laparams=laparams)\n",
        "    fp = open(path, 'rb')\n",
        "    interpreter = PDFPageInterpreter(rsrcmgr, device)\n",
        "    password = \"\"\n",
        "    maxpages = 0\n",
        "    caching = True\n",
        "    pagenos=set()\n",
        "\n",
        "    for page in PDFPage.get_pages(fp, pagenos, maxpages=maxpages, password=password,caching=caching, check_extractable=True):\n",
        "        interpreter.process_page(page)\n",
        "\n",
        "    text = retstr.getvalue()\n",
        "\n",
        "    fp.close()\n",
        "    device.close()\n",
        "    retstr.close()\n",
        "    return text\n",
        "\n",
        "\n",
        "\n",
        "import nltk.data\n",
        "from nltk import re\n",
        "\n",
        "\n",
        "def convert_pdf_to_json(path, output):\n",
        "    para = convert_pdf_to_txt(path).strip()\n",
        "    a_remover = r\"(\\n)+\"\n",
        "\n",
        "    resultado = re.sub(a_remover, \" \", para)\n",
        "\n",
        "    es_tokenizer = nltk.data.load('tokenizers/punkt/PY3/spanish.pickle')\n",
        "    lista_oraciones = es_tokenizer.tokenize(resultado)\n",
        "\n",
        "    llave_comienzo = \"{\\\"text\\\": \\\"\"\n",
        "    llave_fin = \"\\\"}\"\n",
        "\n",
        "    salida = open(output, 'w')\n",
        "    salida.write(\"\")\n",
        "    salida.close()\n",
        "    salida = open(output, 'a')\n",
        "    for oracion in lista_oraciones:\n",
        "        salida.write( \"{}{}{} \".format(llave_comienzo, oracion, llave_fin))\n",
        "    salida.close()\n",
        "    print(\"ok\\n\")\n",
        "\n",
        "\n",
        "\n",
        "convert_pdf_to_json('/content/drive/My Drive/dataset-nlp-utn/UTNMktg2016-Maschwitz-TP7.pdf', '/content/drive/My Drive/TPs json/salida1.json')\n",
        "\n",
        "\n",
        "\n"
      ],
      "execution_count": 0,
      "outputs": []
    },
    {
      "cell_type": "code",
      "metadata": {
        "id": "I4eNvsgUVg6z",
        "colab_type": "code",
        "colab": {}
      },
      "source": [
        "#80 oraciones por TP\n",
        "convert_pdf_to_json('/content/drive/My Drive/dataset-nlp-utn/UTNMktg2016-Maschwitz-TP7.pdf', '/content/drive/My Drive/TPs json/salida1.json')\n",
        "convert_pdf_to_json('/content/drive/My Drive/dataset-nlp-utn/Economía de experiencia (1).pdf', '/content/drive/My Drive/TPs json/salida2.json')\n",
        "convert_pdf_to_json('/content/drive/My Drive/dataset-nlp-utn/UTNMktg2016-LeonPeralta-TP5.pdf', '/content/drive/My Drive/TPs json/salida3.json')\n",
        "convert_pdf_to_json('/content/drive/My Drive/dataset-nlp-utn/UTNMKT2016-MoraLeandro-TP4 (1).pdf', '/content/drive/My Drive/TPs json/salida4.json')\n",
        "convert_pdf_to_json('/content/drive/My Drive/dataset-nlp-utn/UTN Mktg 2016 - Modugno - TP3.pdf', '/content/drive/My Drive/TPs json/salida5.json')\n",
        "convert_pdf_to_json('/content/drive/My Drive/dataset-nlp-utn/UTN Mktg 2016 - Modugno - TP1.pdf', '/content/drive/My Drive/TPs json/salida6.json')\n",
        "convert_pdf_to_json('/content/drive/My Drive/dataset-nlp-utn/UTN - TP 2 - Matias Sas .pdf', '/content/drive/My Drive/TPs json/salida7.json')\n",
        "convert_pdf_to_json('/content/drive/My Drive/dataset-nlp-utn/UTN - TP 1 - Matias Sas .pdf', '/content/drive/My Drive/TPs json/salida8.json')\n",
        "convert_pdf_to_json('/content/drive/My Drive/dataset-nlp-utn/UTN - MARKETING - TP4.pdf', '/content/drive/My Drive/TPs json/salida9.json')\n",
        "convert_pdf_to_json('/content/drive/My Drive/dataset-nlp-utn/UTN - Marketing - TP3 - Matias Sas.pdf', '/content/drive/My Drive/TPs json/salida10.json')\n",
        "convert_pdf_to_json('/content/drive/My Drive/dataset-nlp-utn/UTN - MARKETING - SAS - TP5.pdf', '/content/drive/My Drive/TPs json/salida11.json')\n",
        "convert_pdf_to_json('/content/drive/My Drive/dataset-nlp-utn/TP7 Dominio de la informacion - Juan Facundo Obregon.pdf', '/content/drive/My Drive/TPs json/salida12.json')\n",
        "convert_pdf_to_json('/content/drive/My Drive/dataset-nlp-utn/TP6-Sistemasemergentes-RamirezFernando2017.pdf', '/content/drive/My Drive/TPs json/salida13.json')\n",
        "convert_pdf_to_json('/content/drive/My Drive/dataset-nlp-utn/TP6.pdf', '/content/drive/My Drive/TPs json/salida14.json')\n",
        "convert_pdf_to_json('/content/drive/My Drive/dataset-nlp-utn/TP5-Lasociedaddecostomarginalcero-RamirezFernando2017.pdf', '/content/drive/My Drive/TPs json/salida15.json')\n",
        "convert_pdf_to_json('/content/drive/My Drive/dataset-nlp-utn/TP5 (5).pdf', '/content/drive/My Drive/TPs json/salida16.json')\n",
        "convert_pdf_to_json('/content/drive/My Drive/dataset-nlp-utn/TP4PabloPallocchi.pdf', '/content/drive/My Drive/TPs json/salida17.json')\n",
        "convert_pdf_to_json('/content/drive/My Drive/dataset-nlp-utn/TP5 (6).pdf', '/content/drive/My Drive/TPs json/salida18.json')\n",
        "convert_pdf_to_json('/content/drive/My Drive/dataset-nlp-utn/TP5 (4).pdf', '/content/drive/My Drive/TPs json/salida19.json')\n",
        "convert_pdf_to_json('/content/drive/My Drive/dataset-nlp-utn/TP5 (3).pdf', '/content/drive/My Drive/TPs json/salida20.json')\n",
        "convert_pdf_to_json('/content/drive/My Drive/dataset-nlp-utn/TP5 (2).pdf', '/content/drive/My Drive/TPs json/salida21.json')\n",
        "convert_pdf_to_json('/content/drive/My Drive/dataset-nlp-utn/TP5 (1).pdf', '/content/drive/My Drive/TPs json/salida22.json')\n",
        "convert_pdf_to_json('/content/drive/My Drive/dataset-nlp-utn/TP4PabloPallocchi.pdf', '/content/drive/My Drive/TPs json/salida23.json')\n",
        "convert_pdf_to_json('/content/drive/My Drive/dataset-nlp-utn/TP4 (5).pdf', '/content/drive/My Drive/TPs json/salida24.json')\n",
        "convert_pdf_to_json('/content/drive/My Drive/dataset-nlp-utn/TP4 (4).pdf', '/content/drive/My Drive/TPs json/salida25.json')\n",
        "convert_pdf_to_json('/content/drive/My Drive/dataset-nlp-utn/TP4 (3).pdf', '/content/drive/My Drive/TPs json/salida26.json')\n",
        "convert_pdf_to_json('/content/drive/My Drive/dataset-nlp-utn/TP4 (2).pdf', '/content/drive/My Drive/TPs json/salida27.json')\n",
        "convert_pdf_to_json('/content/drive/My Drive/dataset-nlp-utn/TP4 (1).pdf', '/content/drive/My Drive/TPs json/salida28.json')\n",
        "convert_pdf_to_json('/content/drive/My Drive/dataset-nlp-utn/TP4 - Difusión y adopción TIC - Ramirez Fernando 2017.pdf', '/content/drive/My Drive/TPs json/salida29.json')\n",
        "convert_pdf_to_json('/content/drive/My Drive/dataset-nlp-utn/TP3PabloPallocchi.pdf', '/content/drive/My Drive/TPs json/salida30.json')\n",
        "convert_pdf_to_json('/content/drive/My Drive/dataset-nlp-utn/TP3PabloPallocchi (1).pdf', '/content/drive/My Drive/TPs json/salida31.json')\n",
        "convert_pdf_to_json('/content/drive/My Drive/dataset-nlp-utn/TP3.pdf', '/content/drive/My Drive/TPs json/salida32.json')\n",
        "convert_pdf_to_json('/content/drive/My Drive/dataset-nlp-utn/TP3 (3).pdf', '/content/drive/My Drive/TPs json/salida33.json')\n",
        "convert_pdf_to_json('/content/drive/My Drive/dataset-nlp-utn/TP2-LaLargaCola-RamirezFernando2017.pdf', '/content/drive/My Drive/TPs json/salida34.json')\n",
        "convert_pdf_to_json('/content/drive/My Drive/dataset-nlp-utn/TP1-Wikinomics-RamirezFernando2017.pdf', '/content/drive/My Drive/TPs json/salida35.json')\n",
        "convert_pdf_to_json('/content/drive/My Drive/dataset-nlp-utn/TP1 - La Larga Cola.pdf', '/content/drive/My Drive/TPs json/salida36.json')\n",
        "convert_pdf_to_json('/content/drive/My Drive/dataset-nlp-utn/TP 4 - E-commerce - Juan Cruz Reines.pdf', '/content/drive/My Drive/TPs json/salida37.json')\n",
        "#38\n",
        "convert_pdf_to_json('/content/drive/My Drive/dataset-nlp-utn/TP 3 - The experience economy - Joseph PINE II y James GILMORE - Juan Cruz Reines.pdf', '/content/drive/My Drive/TPs json/salida38.json')\n",
        "convert_pdf_to_json('/content/drive/My Drive/dataset-nlp-utn/TP 2 - Marketing 4.0 - Phillip Kotler - Juan Cruz Reines.pdf', '/content/drive/My Drive/TPs json/salida39.json')\n",
        "convert_pdf_to_json('/content/drive/My Drive/dataset-nlp-utn/TP 1 - Wikinomics.pdf', '/content/drive/My Drive/TPs json/salida40.json')\n",
        "convert_pdf_to_json('/content/drive/My Drive/dataset-nlp-utn/SCHMID TP N°3 Experience Economy.pdf', '/content/drive/My Drive/TPs json/salida41.json')\n",
        "convert_pdf_to_json('/content/drive/My Drive/dataset-nlp-utn/MKTG_TP4  - Suchecki - Comercio Electronico.pdf', '/content/drive/My Drive/TPs json/salida42.json')\n",
        "convert_pdf_to_json('/content/drive/My Drive/dataset-nlp-utn/MKTG_TP2  - Suchecki - Marketing 4.0.pdf', '/content/drive/My Drive/TPs json/salida43.json')\n",
        "convert_pdf_to_json('/content/drive/My Drive/dataset-nlp-utn/MKTG_TP0  - Definiciones Economia.pdf', '/content/drive/My Drive/TPs json/salida44.json')\n",
        "convert_pdf_to_json('/content/drive/My Drive/dataset-nlp-utn/MKT 2016 - Alan Szpigiel - TP4.pdf', '/content/drive/My Drive/TPs json/salida45.json')\n",
        "convert_pdf_to_json('/content/drive/My Drive/dataset-nlp-utn/MKT 2016 - Alan Szpigiel - TP4 (3).pdf', '/content/drive/My Drive/TPs json/salida46.json')\n",
        "convert_pdf_to_json('/content/drive/My Drive/dataset-nlp-utn/MKT 2016 - Alan Szpigiel - TP4 (2).pdf', '/content/drive/My Drive/TPs json/salida47.json')\n",
        "convert_pdf_to_json('/content/drive/My Drive/dataset-nlp-utn/MKT 2016 - Alan Szpigiel - TP4 (1).pdf', '/content/drive/My Drive/TPs json/salida48.json')\n",
        "convert_pdf_to_json('/content/drive/My Drive/dataset-nlp-utn/K5071 - Matias David Choren - TP3 - Experience Economy.pdf', '/content/drive/My Drive/TPs json/salida49.json')\n",
        "convert_pdf_to_json('/content/drive/My Drive/dataset-nlp-utn/TP4PabloPallocchi.pdf', '/content/drive/My Drive/TPs json/salida50.json')\n",
        "convert_pdf_to_json('/content/drive/My Drive/dataset-nlp-utn/K5071 - Matias David Choren - TP N6 Sistemas Emergentes.pdf', '/content/drive/My Drive/TPs json/salida51.json')\n",
        "convert_pdf_to_json('/content/drive/My Drive/dataset-nlp-utn/K5071 - Matias David Choren - TP N°5 Rifkin.pdf', '/content/drive/My Drive/TPs json/salida52.json')\n",
        "#52"
      ],
      "execution_count": 0,
      "outputs": []
    }
  ]
}